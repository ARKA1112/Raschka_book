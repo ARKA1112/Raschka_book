{
 "cells": [
  {
   "cell_type": "markdown",
   "metadata": {},
   "source": [
    "### Building Input Pipelines with PyTorch"
   ]
  },
  {
   "cell_type": "code",
   "execution_count": 1,
   "metadata": {},
   "outputs": [],
   "source": [
    "import torch\n",
    "from torch.utils.data import DataLoader"
   ]
  },
  {
   "cell_type": "code",
   "execution_count": 3,
   "metadata": {},
   "outputs": [
    {
     "data": {
      "text/plain": [
       "tensor([ 0.,  1.,  2.,  3.,  4.,  5.,  6.,  7.,  8.,  9., 10., 11., 12., 13.,\n",
       "        14., 15.], dtype=torch.float16)"
      ]
     },
     "execution_count": 3,
     "metadata": {},
     "output_type": "execute_result"
    }
   ],
   "source": [
    "t = torch.arange(16,dtype=torch.float16)\n",
    "t"
   ]
  },
  {
   "cell_type": "code",
   "execution_count": 8,
   "metadata": {},
   "outputs": [],
   "source": [
    "t = t.reshape((4,-1))"
   ]
  },
  {
   "cell_type": "code",
   "execution_count": 9,
   "metadata": {},
   "outputs": [
    {
     "data": {
      "text/plain": [
       "<torch.utils.data.dataloader.DataLoader at 0x7f5763972380>"
      ]
     },
     "execution_count": 9,
     "metadata": {},
     "output_type": "execute_result"
    }
   ],
   "source": [
    "# create a simple dataloader out of it\n",
    "\n",
    "dataloader = DataLoader(t)\n",
    "dataloader"
   ]
  },
  {
   "cell_type": "code",
   "execution_count": 14,
   "metadata": {},
   "outputs": [
    {
     "name": "stdout",
     "output_type": "stream",
     "text": [
      "tensor([[0., 1., 2., 3.]], dtype=torch.float16)\n",
      "tensor([[4., 5., 6., 7.]], dtype=torch.float16)\n",
      "tensor([[ 8.,  9., 10., 11.]], dtype=torch.float16)\n",
      "tensor([[12., 13., 14., 15.]], dtype=torch.float16)\n"
     ]
    }
   ],
   "source": [
    "#fetch from the dataloader\n",
    "for i in dataloader:\n",
    "    print(i)\n",
    "\n",
    "\n"
   ]
  },
  {
   "cell_type": "code",
   "execution_count": 13,
   "metadata": {},
   "outputs": [
    {
     "name": "stdout",
     "output_type": "stream",
     "text": [
      "Batch no:1 data:tensor([[0., 1., 2., 3.],\n",
      "        [4., 5., 6., 7.]], dtype=torch.float16)\n",
      "Batch no:2 data:tensor([[ 8.,  9., 10., 11.],\n",
      "        [12., 13., 14., 15.]], dtype=torch.float16)\n"
     ]
    }
   ],
   "source": [
    "# create a dataloader with batchsizse\n",
    "    \n",
    "dataloader_2 = DataLoader(t,batch_size=2)\n",
    "for i,batch in enumerate(dataloader_2):\n",
    "    print(f'Batch no:{i+1} data:{batch}')"
   ]
  },
  {
   "cell_type": "code",
   "execution_count": 15,
   "metadata": {},
   "outputs": [],
   "source": [
    "#Drop the last full batch by argument drop_last=True, this will drop the last unfinished batch ie batch not of the same size that of the rest of the batches"
   ]
  },
  {
   "cell_type": "markdown",
   "metadata": {},
   "source": [
    "Combining two tensors into a joint dataset"
   ]
  },
  {
   "cell_type": "code",
   "execution_count": 20,
   "metadata": {},
   "outputs": [],
   "source": [
    "t_x = torch.rand((5,4), dtype=torch.float16)\n",
    "t_y = torch.arange(5,dtype=torch.float16)"
   ]
  },
  {
   "cell_type": "code",
   "execution_count": 21,
   "metadata": {},
   "outputs": [
    {
     "data": {
      "text/plain": [
       "(tensor([[0.0825, 0.1021, 0.0024, 0.3403],\n",
       "         [0.4878, 0.7627, 0.5527, 0.7520],\n",
       "         [0.8945, 0.9390, 0.5469, 0.0903],\n",
       "         [0.6040, 0.4917, 0.6421, 0.5015],\n",
       "         [0.8022, 0.8433, 0.9526, 0.1558]], dtype=torch.float16),\n",
       " tensor([0., 1., 2., 3., 4.], dtype=torch.float16))"
      ]
     },
     "execution_count": 21,
     "metadata": {},
     "output_type": "execute_result"
    }
   ],
   "source": [
    "t_x, t_y"
   ]
  },
  {
   "cell_type": "code",
   "execution_count": 28,
   "metadata": {},
   "outputs": [],
   "source": [
    "#now create a dataset that returns single row and subsequent target\n",
    "from torch.utils.data import Dataset\n",
    "class JointDataset(Dataset):\n",
    "    def __init__(self, x,y):\n",
    "        super().__init__()\n",
    "        self.x = x\n",
    "        self.y = y\n",
    "    \n",
    "    def __len__(self):\n",
    "        return len(self.x)\n",
    "\n",
    "    def __getitem__(self, idx):\n",
    "        return self.x[idx], self.y[idx]"
   ]
  },
  {
   "cell_type": "code",
   "execution_count": 30,
   "metadata": {},
   "outputs": [
    {
     "name": "stdout",
     "output_type": "stream",
     "text": [
      "batch 1 and (tensor([0.0825, 0.1021, 0.0024, 0.3403], dtype=torch.float16), tensor(0., dtype=torch.float16))\n",
      "batch 2 and (tensor([0.4878, 0.7627, 0.5527, 0.7520], dtype=torch.float16), tensor(1., dtype=torch.float16))\n",
      "batch 3 and (tensor([0.8945, 0.9390, 0.5469, 0.0903], dtype=torch.float16), tensor(2., dtype=torch.float16))\n",
      "batch 4 and (tensor([0.6040, 0.4917, 0.6421, 0.5015], dtype=torch.float16), tensor(3., dtype=torch.float16))\n",
      "batch 5 and (tensor([0.8022, 0.8433, 0.9526, 0.1558], dtype=torch.float16), tensor(4., dtype=torch.float16))\n"
     ]
    }
   ],
   "source": [
    "dt = JointDataset(t_x, t_y)\n",
    "for i,batch in enumerate(dt):\n",
    "    print(f\"batch {i+1} and {batch}\")\n"
   ]
  },
  {
   "cell_type": "code",
   "execution_count": 32,
   "metadata": {},
   "outputs": [
    {
     "name": "stdout",
     "output_type": "stream",
     "text": [
      "[tensor([[0.6040, 0.4917, 0.6421, 0.5015],\n",
      "        [0.0825, 0.1021, 0.0024, 0.3403],\n",
      "        [0.8945, 0.9390, 0.5469, 0.0903]], dtype=torch.float16), tensor([3., 0., 2.], dtype=torch.float16)]\n",
      "[tensor([[0.8022, 0.8433, 0.9526, 0.1558],\n",
      "        [0.4878, 0.7627, 0.5527, 0.7520]], dtype=torch.float16), tensor([4., 1.], dtype=torch.float16)]\n"
     ]
    }
   ],
   "source": [
    "#Dataloader in batches\n",
    "\n",
    "torch.manual_seed(33)\n",
    "\n",
    "data_loader = DataLoader(dt, batch_size=3,shuffle=True)\n",
    "for i in data_loader:\n",
    "    print(i)"
   ]
  },
  {
   "cell_type": "code",
   "execution_count": 33,
   "metadata": {},
   "outputs": [
    {
     "name": "stdout",
     "output_type": "stream",
     "text": [
      "epoch 0\n",
      "batch 1 and [tensor([[0.0825, 0.1021, 0.0024, 0.3403],\n",
      "        [0.4878, 0.7627, 0.5527, 0.7520],\n",
      "        [0.6040, 0.4917, 0.6421, 0.5015]], dtype=torch.float16), tensor([0., 1., 3.], dtype=torch.float16)]\n",
      "batch 2 and [tensor([[0.8022, 0.8433, 0.9526, 0.1558],\n",
      "        [0.8945, 0.9390, 0.5469, 0.0903]], dtype=torch.float16), tensor([4., 2.], dtype=torch.float16)]\n",
      "epoch 1\n",
      "batch 1 and [tensor([[0.4878, 0.7627, 0.5527, 0.7520],\n",
      "        [0.8022, 0.8433, 0.9526, 0.1558],\n",
      "        [0.6040, 0.4917, 0.6421, 0.5015]], dtype=torch.float16), tensor([1., 4., 3.], dtype=torch.float16)]\n",
      "batch 2 and [tensor([[0.0825, 0.1021, 0.0024, 0.3403],\n",
      "        [0.8945, 0.9390, 0.5469, 0.0903]], dtype=torch.float16), tensor([0., 2.], dtype=torch.float16)]\n",
      "epoch 2\n",
      "batch 1 and [tensor([[0.0825, 0.1021, 0.0024, 0.3403],\n",
      "        [0.6040, 0.4917, 0.6421, 0.5015],\n",
      "        [0.4878, 0.7627, 0.5527, 0.7520]], dtype=torch.float16), tensor([0., 3., 1.], dtype=torch.float16)]\n",
      "batch 2 and [tensor([[0.8022, 0.8433, 0.9526, 0.1558],\n",
      "        [0.8945, 0.9390, 0.5469, 0.0903]], dtype=torch.float16), tensor([4., 2.], dtype=torch.float16)]\n",
      "epoch 3\n",
      "batch 1 and [tensor([[0.0825, 0.1021, 0.0024, 0.3403],\n",
      "        [0.4878, 0.7627, 0.5527, 0.7520],\n",
      "        [0.6040, 0.4917, 0.6421, 0.5015]], dtype=torch.float16), tensor([0., 1., 3.], dtype=torch.float16)]\n",
      "batch 2 and [tensor([[0.8945, 0.9390, 0.5469, 0.0903],\n",
      "        [0.8022, 0.8433, 0.9526, 0.1558]], dtype=torch.float16), tensor([2., 4.], dtype=torch.float16)]\n",
      "epoch 4\n",
      "batch 1 and [tensor([[0.6040, 0.4917, 0.6421, 0.5015],\n",
      "        [0.0825, 0.1021, 0.0024, 0.3403],\n",
      "        [0.8022, 0.8433, 0.9526, 0.1558]], dtype=torch.float16), tensor([3., 0., 4.], dtype=torch.float16)]\n",
      "batch 2 and [tensor([[0.8945, 0.9390, 0.5469, 0.0903],\n",
      "        [0.4878, 0.7627, 0.5527, 0.7520]], dtype=torch.float16), tensor([2., 1.], dtype=torch.float16)]\n"
     ]
    }
   ],
   "source": [
    "#when training a model for multiple epochs, we need to shuffle and iterate over the dataset\n",
    "\n",
    "for epoch in range(5):\n",
    "    print(f\"epoch {epoch}\")\n",
    "    for i, batch in enumerate(data_loader,start=1):\n",
    "        print(f\"batch {i} and {batch}\")"
   ]
  },
  {
   "cell_type": "code",
   "execution_count": 49,
   "metadata": {},
   "outputs": [
    {
     "data": {
      "text/plain": [
       "PosixPath('cat_dog')"
      ]
     },
     "execution_count": 49,
     "metadata": {},
     "output_type": "execute_result"
    }
   ],
   "source": [
    "import glob\n",
    "import os\n",
    "import pathlib\n",
    "import matplotlib.pyplot as plt\n",
    "from PIL import Image\n",
    "import numpy as np\n",
    "imdir = pathlib.Path('cat_dog')\n",
    "\n",
    "\n",
    "imdir"
   ]
  },
  {
   "cell_type": "code",
   "execution_count": 43,
   "metadata": {},
   "outputs": [
    {
     "data": {
      "text/plain": [
       "['cat_dog/im1.png',\n",
       " 'cat_dog/im2.png',\n",
       " 'cat_dog/im3.png',\n",
       " 'cat_dog/im4.png',\n",
       " 'cat_dog/im5.png',\n",
       " 'cat_dog/im6.png']"
      ]
     },
     "execution_count": 43,
     "metadata": {},
     "output_type": "execute_result"
    }
   ],
   "source": [
    "file_list = sorted([str(path) for path in imdir.glob('*.png')])\n",
    "file_list"
   ]
  },
  {
   "cell_type": "code",
   "execution_count": 75,
   "metadata": {},
   "outputs": [
    {
     "data": {
      "text/plain": [
       "<Figure size 1000x500 with 0 Axes>"
      ]
     },
     "metadata": {},
     "output_type": "display_data"
    }
   ],
   "source": [
    "fig = plt.figure(figsize=(10,5))"
   ]
  },
  {
   "cell_type": "code",
   "execution_count": 76,
   "metadata": {},
   "outputs": [
    {
     "name": "stdout",
     "output_type": "stream",
     "text": [
      "Image shape (600, 1179, 4)\n",
      "Image shape (600, 1179, 4)\n",
      "Image shape (600, 1179, 4)\n",
      "Image shape (600, 1179, 4)\n",
      "Image shape (600, 1179, 4)\n",
      "Image shape (600, 1179, 4)\n"
     ]
    },
    {
     "data": {
      "text/plain": [
       "<Figure size 640x480 with 0 Axes>"
      ]
     },
     "metadata": {},
     "output_type": "display_data"
    }
   ],
   "source": [
    "for i, file in enumerate(file_list):\n",
    "    img = Image.open(file)\n",
    "    print('Image shape',np.array(img).shape)\n",
    "    ax = fig.add_subplot(2,3, i+1)\n",
    "    ax.set_xticks([])\n",
    "    ax.set_yticks([])\n",
    "    ax.imshow(img)\n",
    "    ax.set_title(os.path.basename(file))\n",
    "plt.tight_layout()\n",
    "plt.show()\n",
    "#mistakenly all the images were in single image\n"
   ]
  },
  {
   "cell_type": "code",
   "execution_count": null,
   "metadata": {},
   "outputs": [],
   "source": []
  }
 ],
 "metadata": {
  "kernelspec": {
   "display_name": "Python 3",
   "language": "python",
   "name": "python3"
  },
  "language_info": {
   "codemirror_mode": {
    "name": "ipython",
    "version": 3
   },
   "file_extension": ".py",
   "mimetype": "text/x-python",
   "name": "python",
   "nbconvert_exporter": "python",
   "pygments_lexer": "ipython3",
   "version": "3.10.13"
  }
 },
 "nbformat": 4,
 "nbformat_minor": 2
}
